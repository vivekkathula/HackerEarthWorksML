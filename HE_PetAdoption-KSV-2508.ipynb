{
 "cells": [
  {
   "cell_type": "markdown",
   "metadata": {},
   "source": [
    "# Multiclass - Multilabel Problem - find Pet category, breed category"
   ]
  },
  {
   "cell_type": "markdown",
   "metadata": {},
   "source": [
    "## Import Packages"
   ]
  },
  {
   "cell_type": "code",
   "execution_count": 1,
   "metadata": {},
   "outputs": [],
   "source": [
    "# Common imports for data\n",
    "import numpy as np\n",
    "import pandas as pd\n",
    "import os\n",
    "\n",
    "# for metrics, preprocessing\n",
    "import sklearn\n",
    "\n",
    "\n",
    "# models\n",
    "from sklearn.ensemble import RandomForestClassifier\n",
    "from sklearn.ensemble import GradientBoostingClassifier\n",
    "from sklearn.model_selection import RandomizedSearchCV\n",
    "\n",
    "# to make this notebook's output stable across runs\n",
    "np.random.seed(42)\n",
    "\n",
    "# To plot \n",
    "%matplotlib inline\n",
    "import matplotlib as mpl\n",
    "import matplotlib.pyplot as plt\n"
   ]
  },
  {
   "cell_type": "markdown",
   "metadata": {},
   "source": [
    "## Download the Data"
   ]
  },
  {
   "cell_type": "code",
   "execution_count": 2,
   "metadata": {},
   "outputs": [],
   "source": [
    "os.chdir(\"/Users/vivekkathula/Documents/Competitions/Pet Adoption HackerEarth/Dataset_HE_PetAdoption/\")\n",
    "train=pd.read_csv(\"HE_PetAdoption_train.csv\")\n",
    "test=pd.read_csv(\"HE_PetAdoption_test.csv\")"
   ]
  },
  {
   "cell_type": "markdown",
   "metadata": {},
   "source": [
    "## Make a copy of train and test, so we can come back to original"
   ]
  },
  {
   "cell_type": "code",
   "execution_count": 3,
   "metadata": {},
   "outputs": [],
   "source": [
    "pet_train_full=train.copy()\n",
    "pet_test=test.copy()"
   ]
  },
  {
   "cell_type": "markdown",
   "metadata": {},
   "source": [
    "## Take a Quick Look at the Data Structure"
   ]
  },
  {
   "cell_type": "code",
   "execution_count": 4,
   "metadata": {},
   "outputs": [
    {
     "data": {
      "text/html": [
       "<div>\n",
       "<style scoped>\n",
       "    .dataframe tbody tr th:only-of-type {\n",
       "        vertical-align: middle;\n",
       "    }\n",
       "\n",
       "    .dataframe tbody tr th {\n",
       "        vertical-align: top;\n",
       "    }\n",
       "\n",
       "    .dataframe thead th {\n",
       "        text-align: right;\n",
       "    }\n",
       "</style>\n",
       "<table border=\"1\" class=\"dataframe\">\n",
       "  <thead>\n",
       "    <tr style=\"text-align: right;\">\n",
       "      <th></th>\n",
       "      <th>pet_id</th>\n",
       "      <th>issue_date</th>\n",
       "      <th>listing_date</th>\n",
       "      <th>condition</th>\n",
       "      <th>color_type</th>\n",
       "      <th>length(m)</th>\n",
       "      <th>height(cm)</th>\n",
       "      <th>X1</th>\n",
       "      <th>X2</th>\n",
       "      <th>breed_category</th>\n",
       "      <th>pet_category</th>\n",
       "    </tr>\n",
       "  </thead>\n",
       "  <tbody>\n",
       "    <tr>\n",
       "      <th>0</th>\n",
       "      <td>ANSL_69903</td>\n",
       "      <td>2016-07-10 00:00:00</td>\n",
       "      <td>2016-09-21 16:25:00</td>\n",
       "      <td>2.0</td>\n",
       "      <td>Brown Tabby</td>\n",
       "      <td>0.80</td>\n",
       "      <td>7.78</td>\n",
       "      <td>13</td>\n",
       "      <td>9</td>\n",
       "      <td>0.0</td>\n",
       "      <td>1</td>\n",
       "    </tr>\n",
       "    <tr>\n",
       "      <th>1</th>\n",
       "      <td>ANSL_66892</td>\n",
       "      <td>2013-11-21 00:00:00</td>\n",
       "      <td>2018-12-27 17:47:00</td>\n",
       "      <td>1.0</td>\n",
       "      <td>White</td>\n",
       "      <td>0.72</td>\n",
       "      <td>14.19</td>\n",
       "      <td>13</td>\n",
       "      <td>9</td>\n",
       "      <td>0.0</td>\n",
       "      <td>2</td>\n",
       "    </tr>\n",
       "    <tr>\n",
       "      <th>2</th>\n",
       "      <td>ANSL_69750</td>\n",
       "      <td>2014-09-28 00:00:00</td>\n",
       "      <td>2016-10-19 08:24:00</td>\n",
       "      <td>NaN</td>\n",
       "      <td>Brown</td>\n",
       "      <td>0.15</td>\n",
       "      <td>40.90</td>\n",
       "      <td>15</td>\n",
       "      <td>4</td>\n",
       "      <td>2.0</td>\n",
       "      <td>4</td>\n",
       "    </tr>\n",
       "  </tbody>\n",
       "</table>\n",
       "</div>"
      ],
      "text/plain": [
       "       pet_id           issue_date         listing_date  condition  \\\n",
       "0  ANSL_69903  2016-07-10 00:00:00  2016-09-21 16:25:00        2.0   \n",
       "1  ANSL_66892  2013-11-21 00:00:00  2018-12-27 17:47:00        1.0   \n",
       "2  ANSL_69750  2014-09-28 00:00:00  2016-10-19 08:24:00        NaN   \n",
       "\n",
       "    color_type  length(m)  height(cm)  X1  X2  breed_category  pet_category  \n",
       "0  Brown Tabby       0.80        7.78  13   9             0.0             1  \n",
       "1        White       0.72       14.19  13   9             0.0             2  \n",
       "2        Brown       0.15       40.90  15   4             2.0             4  "
      ]
     },
     "execution_count": 4,
     "metadata": {},
     "output_type": "execute_result"
    }
   ],
   "source": [
    "pet_train_full.head(3)"
   ]
  },
  {
   "cell_type": "code",
   "execution_count": 5,
   "metadata": {},
   "outputs": [
    {
     "name": "stdout",
     "output_type": "stream",
     "text": [
      "<class 'pandas.core.frame.DataFrame'>\n",
      "RangeIndex: 18834 entries, 0 to 18833\n",
      "Data columns (total 11 columns):\n",
      " #   Column          Non-Null Count  Dtype  \n",
      "---  ------          --------------  -----  \n",
      " 0   pet_id          18834 non-null  object \n",
      " 1   issue_date      18834 non-null  object \n",
      " 2   listing_date    18834 non-null  object \n",
      " 3   condition       17357 non-null  float64\n",
      " 4   color_type      18834 non-null  object \n",
      " 5   length(m)       18834 non-null  float64\n",
      " 6   height(cm)      18834 non-null  float64\n",
      " 7   X1              18834 non-null  int64  \n",
      " 8   X2              18834 non-null  int64  \n",
      " 9   breed_category  18834 non-null  float64\n",
      " 10  pet_category    18834 non-null  int64  \n",
      "dtypes: float64(4), int64(3), object(4)\n",
      "memory usage: 1.6+ MB\n"
     ]
    }
   ],
   "source": [
    "pet_train_full.info()"
   ]
  },
  {
   "cell_type": "code",
   "execution_count": 6,
   "metadata": {},
   "outputs": [
    {
     "data": {
      "text/plain": [
       "Black                4620\n",
       "White                2453\n",
       "Brown                1791\n",
       "Brown Tabby          1687\n",
       "Tan                  1349\n",
       "Blue                  852\n",
       "Orange Tabby          791\n",
       "Red                   526\n",
       "Brown Brindle         496\n",
       "Tricolor              469\n",
       "Blue Tabby            386\n",
       "Tortie                366\n",
       "Calico                343\n",
       "Gray                  307\n",
       "Chocolate             259\n",
       "Torbie                242\n",
       "Cream Tabby           191\n",
       "Sable                 167\n",
       "Cream                 162\n",
       "Fawn                  159\n",
       "Yellow                143\n",
       "Buff                  125\n",
       "Lynx Point            117\n",
       "Blue Merle            104\n",
       "Seal Point             78\n",
       "Black Brindle          66\n",
       "Gray Tabby             65\n",
       "Black Tabby            55\n",
       "Flame Point            52\n",
       "Orange                 39\n",
       "Brown Merle            39\n",
       "Black Smoke            32\n",
       "Gold                   31\n",
       "Tortie Point           26\n",
       "Silver                 24\n",
       "Red Tick               23\n",
       "Blue Tick              21\n",
       "Blue Point             20\n",
       "Lilac Point            19\n",
       "Silver Tabby           18\n",
       "Yellow Brindle         15\n",
       "Apricot                13\n",
       "Red Merle              13\n",
       "Calico Point           12\n",
       "Blue Tiger             10\n",
       "Blue Cream             10\n",
       "Chocolate Point         9\n",
       "Pink                    8\n",
       "Green                   8\n",
       "Blue Smoke              6\n",
       "Silver Lynx Point       4\n",
       "Agouti                  4\n",
       "Brown Tiger             4\n",
       "Liver                   3\n",
       "Liver Tick              1\n",
       "Black Tiger             1\n",
       "Name: color_type, dtype: int64"
      ]
     },
     "execution_count": 6,
     "metadata": {},
     "output_type": "execute_result"
    }
   ],
   "source": [
    "pet_train_full.color_type.value_counts()"
   ]
  },
  {
   "cell_type": "code",
   "execution_count": 7,
   "metadata": {},
   "outputs": [
    {
     "data": {
      "text/html": [
       "<div>\n",
       "<style scoped>\n",
       "    .dataframe tbody tr th:only-of-type {\n",
       "        vertical-align: middle;\n",
       "    }\n",
       "\n",
       "    .dataframe tbody tr th {\n",
       "        vertical-align: top;\n",
       "    }\n",
       "\n",
       "    .dataframe thead th {\n",
       "        text-align: right;\n",
       "    }\n",
       "</style>\n",
       "<table border=\"1\" class=\"dataframe\">\n",
       "  <thead>\n",
       "    <tr style=\"text-align: right;\">\n",
       "      <th></th>\n",
       "      <th>condition</th>\n",
       "      <th>length(m)</th>\n",
       "      <th>height(cm)</th>\n",
       "      <th>X1</th>\n",
       "      <th>X2</th>\n",
       "      <th>breed_category</th>\n",
       "      <th>pet_category</th>\n",
       "    </tr>\n",
       "  </thead>\n",
       "  <tbody>\n",
       "    <tr>\n",
       "      <th>count</th>\n",
       "      <td>17357.000000</td>\n",
       "      <td>18834.000000</td>\n",
       "      <td>18834.000000</td>\n",
       "      <td>18834.000000</td>\n",
       "      <td>18834.000000</td>\n",
       "      <td>18834.000000</td>\n",
       "      <td>18834.000000</td>\n",
       "    </tr>\n",
       "    <tr>\n",
       "      <th>mean</th>\n",
       "      <td>0.883390</td>\n",
       "      <td>0.502636</td>\n",
       "      <td>27.448832</td>\n",
       "      <td>5.369598</td>\n",
       "      <td>4.577307</td>\n",
       "      <td>0.600563</td>\n",
       "      <td>1.709143</td>\n",
       "    </tr>\n",
       "    <tr>\n",
       "      <th>std</th>\n",
       "      <td>0.770434</td>\n",
       "      <td>0.288705</td>\n",
       "      <td>13.019781</td>\n",
       "      <td>6.572366</td>\n",
       "      <td>3.517763</td>\n",
       "      <td>0.629883</td>\n",
       "      <td>0.717919</td>\n",
       "    </tr>\n",
       "    <tr>\n",
       "      <th>min</th>\n",
       "      <td>0.000000</td>\n",
       "      <td>0.000000</td>\n",
       "      <td>5.000000</td>\n",
       "      <td>0.000000</td>\n",
       "      <td>0.000000</td>\n",
       "      <td>0.000000</td>\n",
       "      <td>0.000000</td>\n",
       "    </tr>\n",
       "    <tr>\n",
       "      <th>25%</th>\n",
       "      <td>0.000000</td>\n",
       "      <td>0.250000</td>\n",
       "      <td>16.172500</td>\n",
       "      <td>0.000000</td>\n",
       "      <td>1.000000</td>\n",
       "      <td>0.000000</td>\n",
       "      <td>1.000000</td>\n",
       "    </tr>\n",
       "    <tr>\n",
       "      <th>50%</th>\n",
       "      <td>1.000000</td>\n",
       "      <td>0.500000</td>\n",
       "      <td>27.340000</td>\n",
       "      <td>0.000000</td>\n",
       "      <td>4.000000</td>\n",
       "      <td>1.000000</td>\n",
       "      <td>2.000000</td>\n",
       "    </tr>\n",
       "    <tr>\n",
       "      <th>75%</th>\n",
       "      <td>1.000000</td>\n",
       "      <td>0.760000</td>\n",
       "      <td>38.890000</td>\n",
       "      <td>13.000000</td>\n",
       "      <td>9.000000</td>\n",
       "      <td>1.000000</td>\n",
       "      <td>2.000000</td>\n",
       "    </tr>\n",
       "    <tr>\n",
       "      <th>max</th>\n",
       "      <td>2.000000</td>\n",
       "      <td>1.000000</td>\n",
       "      <td>50.000000</td>\n",
       "      <td>19.000000</td>\n",
       "      <td>9.000000</td>\n",
       "      <td>2.000000</td>\n",
       "      <td>4.000000</td>\n",
       "    </tr>\n",
       "  </tbody>\n",
       "</table>\n",
       "</div>"
      ],
      "text/plain": [
       "          condition     length(m)    height(cm)            X1            X2  \\\n",
       "count  17357.000000  18834.000000  18834.000000  18834.000000  18834.000000   \n",
       "mean       0.883390      0.502636     27.448832      5.369598      4.577307   \n",
       "std        0.770434      0.288705     13.019781      6.572366      3.517763   \n",
       "min        0.000000      0.000000      5.000000      0.000000      0.000000   \n",
       "25%        0.000000      0.250000     16.172500      0.000000      1.000000   \n",
       "50%        1.000000      0.500000     27.340000      0.000000      4.000000   \n",
       "75%        1.000000      0.760000     38.890000     13.000000      9.000000   \n",
       "max        2.000000      1.000000     50.000000     19.000000      9.000000   \n",
       "\n",
       "       breed_category  pet_category  \n",
       "count    18834.000000  18834.000000  \n",
       "mean         0.600563      1.709143  \n",
       "std          0.629883      0.717919  \n",
       "min          0.000000      0.000000  \n",
       "25%          0.000000      1.000000  \n",
       "50%          1.000000      2.000000  \n",
       "75%          1.000000      2.000000  \n",
       "max          2.000000      4.000000  "
      ]
     },
     "execution_count": 7,
     "metadata": {},
     "output_type": "execute_result"
    }
   ],
   "source": [
    "pet_train_full.describe()"
   ]
  },
  {
   "cell_type": "code",
   "execution_count": 8,
   "metadata": {},
   "outputs": [
    {
     "data": {
      "image/png": "[encoded data removed]",
      "text/plain": [
       "<Figure size 1440x1080 with 9 Axes>"
      ]
     },
     "metadata": {
      "needs_background": "light"
     },
     "output_type": "display_data"
    }
   ],
   "source": [
    "pet_train_full.hist(bins=50, figsize=(20,15)) \n",
    "plt.show()"
   ]
  },
  {
   "cell_type": "code",
   "execution_count": 9,
   "metadata": {},
   "outputs": [
    {
     "data": {
      "text/plain": [
       "pet_id               0\n",
       "issue_date           0\n",
       "listing_date         0\n",
       "condition         1477\n",
       "color_type           0\n",
       "length(m)            0\n",
       "height(cm)           0\n",
       "X1                   0\n",
       "X2                   0\n",
       "breed_category       0\n",
       "pet_category         0\n",
       "dtype: int64"
      ]
     },
     "execution_count": 9,
     "metadata": {},
     "output_type": "execute_result"
    }
   ],
   "source": [
    "pet_train_full.isnull().sum()"
   ]
  },
  {
   "cell_type": "code",
   "execution_count": 10,
   "metadata": {},
   "outputs": [
    {
     "data": {
      "text/plain": [
       "breed_category    1.000000\n",
       "X1                0.240729\n",
       "pet_category      0.209230\n",
       "X2                0.052530\n",
       "height(cm)        0.011647\n",
       "length(m)         0.007229\n",
       "condition        -0.483503\n",
       "Name: breed_category, dtype: float64"
      ]
     },
     "execution_count": 10,
     "metadata": {},
     "output_type": "execute_result"
    }
   ],
   "source": [
    "pet_train_full.corr()[\"breed_category\"].sort_values(ascending=False)"
   ]
  },
  {
   "cell_type": "code",
   "execution_count": 11,
   "metadata": {},
   "outputs": [
    {
     "data": {
      "text/html": [
       "<div>\n",
       "<style scoped>\n",
       "    .dataframe tbody tr th:only-of-type {\n",
       "        vertical-align: middle;\n",
       "    }\n",
       "\n",
       "    .dataframe tbody tr th {\n",
       "        vertical-align: top;\n",
       "    }\n",
       "\n",
       "    .dataframe thead th {\n",
       "        text-align: right;\n",
       "    }\n",
       "</style>\n",
       "<table border=\"1\" class=\"dataframe\">\n",
       "  <thead>\n",
       "    <tr style=\"text-align: right;\">\n",
       "      <th></th>\n",
       "      <th>pet_id</th>\n",
       "      <th>issue_date</th>\n",
       "      <th>listing_date</th>\n",
       "      <th>condition</th>\n",
       "      <th>color_type</th>\n",
       "      <th>length(m)</th>\n",
       "      <th>height(cm)</th>\n",
       "      <th>X1</th>\n",
       "      <th>X2</th>\n",
       "      <th>breed_category</th>\n",
       "      <th>pet_category</th>\n",
       "    </tr>\n",
       "  </thead>\n",
       "  <tbody>\n",
       "    <tr>\n",
       "      <th>2</th>\n",
       "      <td>ANSL_69750</td>\n",
       "      <td>2014-09-28 00:00:00</td>\n",
       "      <td>2016-10-19 08:24:00</td>\n",
       "      <td>NaN</td>\n",
       "      <td>Brown</td>\n",
       "      <td>0.15</td>\n",
       "      <td>40.9</td>\n",
       "      <td>15</td>\n",
       "      <td>4</td>\n",
       "      <td>2.0</td>\n",
       "      <td>4</td>\n",
       "    </tr>\n",
       "    <tr>\n",
       "      <th>21</th>\n",
       "      <td>ANSL_50488</td>\n",
       "      <td>2018-01-07 00:00:00</td>\n",
       "      <td>2018-07-28 12:36:00</td>\n",
       "      <td>NaN</td>\n",
       "      <td>Brown</td>\n",
       "      <td>0.45</td>\n",
       "      <td>14.0</td>\n",
       "      <td>11</td>\n",
       "      <td>4</td>\n",
       "      <td>2.0</td>\n",
       "      <td>4</td>\n",
       "    </tr>\n",
       "    <tr>\n",
       "      <th>35</th>\n",
       "      <td>ANSL_54000</td>\n",
       "      <td>2018-01-14 00:00:00</td>\n",
       "      <td>2018-02-11 14:49:00</td>\n",
       "      <td>NaN</td>\n",
       "      <td>White</td>\n",
       "      <td>0.03</td>\n",
       "      <td>21.9</td>\n",
       "      <td>13</td>\n",
       "      <td>9</td>\n",
       "      <td>2.0</td>\n",
       "      <td>1</td>\n",
       "    </tr>\n",
       "  </tbody>\n",
       "</table>\n",
       "</div>"
      ],
      "text/plain": [
       "        pet_id           issue_date         listing_date  condition  \\\n",
       "2   ANSL_69750  2014-09-28 00:00:00  2016-10-19 08:24:00        NaN   \n",
       "21  ANSL_50488  2018-01-07 00:00:00  2018-07-28 12:36:00        NaN   \n",
       "35  ANSL_54000  2018-01-14 00:00:00  2018-02-11 14:49:00        NaN   \n",
       "\n",
       "   color_type  length(m)  height(cm)  X1  X2  breed_category  pet_category  \n",
       "2       Brown       0.15        40.9  15   4             2.0             4  \n",
       "21      Brown       0.45        14.0  11   4             2.0             4  \n",
       "35      White       0.03        21.9  13   9             2.0             1  "
      ]
     },
     "execution_count": 11,
     "metadata": {},
     "output_type": "execute_result"
    }
   ],
   "source": [
    "pet_train_full[pet_train_full.condition.isnull()].head(3)"
   ]
  },
  {
   "cell_type": "code",
   "execution_count": 12,
   "metadata": {},
   "outputs": [
    {
     "data": {
      "text/plain": [
       "2.0    1477\n",
       "Name: breed_category, dtype: int64"
      ]
     },
     "execution_count": 12,
     "metadata": {},
     "output_type": "execute_result"
    }
   ],
   "source": [
    "pet_train_full[pet_train_full.condition.isnull()].breed_category.value_counts()"
   ]
  },
  {
   "cell_type": "markdown",
   "metadata": {},
   "source": [
    "### There are a few things you might notice \n",
    "#### 1) condition has a lot influence on breed, and all missing values in condition have same breed type, so replace the missing value with a 3.0 "
   ]
  },
  {
   "cell_type": "markdown",
   "metadata": {},
   "source": [
    "### Create a valid Set"
   ]
  },
  {
   "cell_type": "raw",
   "metadata": {},
   "source": [
    "from sklearn.model_selection import StratifiedShuffleSplit\n",
    "split = StratifiedShuffleSplit(n_splits=1, test_size=0.2, random_state=42)\n",
    "\n",
    "for train_index, valid_index in split.split(pet_train, pet_train[\"color_type\"]):\n",
    "    strat_train_set = pet_train.loc[train_index]\n",
    "    strat_valid_set = pet_train.loc[valid_index]"
   ]
  },
  {
   "cell_type": "markdown",
   "metadata": {},
   "source": [
    "#### Stratified split would have been great but within colortype we have very few categories (like 1 twice)"
   ]
  },
  {
   "cell_type": "code",
   "execution_count": 13,
   "metadata": {},
   "outputs": [],
   "source": [
    "from sklearn.model_selection import train_test_split\n",
    "train_set, valid_set = train_test_split(pet_train_full, test_size=0.2, random_state=42)"
   ]
  },
  {
   "cell_type": "code",
   "execution_count": 14,
   "metadata": {},
   "outputs": [],
   "source": [
    "pet_train = train_set.copy()\n",
    "pet_valid = valid_set.copy()"
   ]
  },
  {
   "cell_type": "code",
   "execution_count": 15,
   "metadata": {},
   "outputs": [
    {
     "data": {
      "image/png": "[encoded data removed]",
      "text/plain": [
       "<Figure size 432x288 with 1 Axes>"
      ]
     },
     "metadata": {
      "needs_background": "light"
     },
     "output_type": "display_data"
    }
   ],
   "source": [
    "pet_train.plot(kind=\"scatter\", x=\"X1\", y=\"X2\")\n",
    "plt.show()"
   ]
  },
  {
   "cell_type": "code",
   "execution_count": 17,
   "metadata": {},
   "outputs": [
    {
     "data": {
      "image/png": "[encoded data removed]",
      "text/plain": [
       "<Figure size 432x288 with 1 Axes>"
      ]
     },
     "metadata": {
      "needs_background": "light"
     },
     "output_type": "display_data"
    }
   ],
   "source": [
    "pet_train.plot(kind=\"scatter\", x=\"X1\", y=\"X2\",alpha=1,c=pet_train[\"breed_category\"])\n",
    "plt.show()"
   ]
  },
  {
   "cell_type": "markdown",
   "metadata": {},
   "source": [
    "## Looking for Correlations"
   ]
  },
  {
   "cell_type": "code",
   "execution_count": 18,
   "metadata": {},
   "outputs": [
    {
     "name": "stdout",
     "output_type": "stream",
     "text": [
      "breed_category    1.000000\n",
      "X1                0.239556\n",
      "pet_category      0.209646\n",
      "X2                0.051608\n",
      "height(cm)        0.015926\n",
      "length(m)         0.005660\n",
      "condition        -0.482912\n",
      "Name: breed_category, dtype: float64\n",
      "pet_category      1.000000\n",
      "breed_category    0.209646\n",
      "height(cm)        0.005169\n",
      "length(m)        -0.007309\n",
      "X2               -0.034942\n",
      "X1               -0.038776\n",
      "condition        -0.044034\n",
      "Name: pet_category, dtype: float64\n"
     ]
    }
   ],
   "source": [
    "df=pet_train.copy()\n",
    "corr=df.corr()\n",
    "print(corr['breed_category'].sort_values(ascending=False))\n",
    "print(corr['pet_category'].sort_values(ascending=False))"
   ]
  },
  {
   "cell_type": "markdown",
   "metadata": {},
   "source": [
    "### Experimenting with Attribute Combinations"
   ]
  },
  {
   "cell_type": "code",
   "execution_count": 19,
   "metadata": {},
   "outputs": [
    {
     "name": "stdout",
     "output_type": "stream",
     "text": [
      "breed_category    1.000000\n",
      "X1sq              0.244552\n",
      "X1                0.239556\n",
      "pet_category      0.209646\n",
      "X1+X2             0.193247\n",
      "X2                0.051608\n",
      "X2cb              0.027560\n",
      "height(cm)        0.015926\n",
      "Hcu               0.011409\n",
      "Lcu               0.007944\n",
      "length(m)         0.005660\n",
      "condition        -0.482912\n",
      "Name: breed_category, dtype: float64\n",
      "pet_category      1.000000\n",
      "breed_category    0.209646\n",
      "Hcu               0.006547\n",
      "height(cm)        0.005169\n",
      "Lcu              -0.001929\n",
      "length(m)        -0.007309\n",
      "X1sq             -0.015391\n",
      "X2               -0.034942\n",
      "X1               -0.038776\n",
      "X1+X2            -0.041587\n",
      "condition        -0.044034\n",
      "X2cb             -0.141203\n",
      "Name: pet_category, dtype: float64\n"
     ]
    }
   ],
   "source": [
    "df=pet_train.copy()\n",
    "df[\"Hcu\"]=df[\"height(cm)\"]**3\n",
    "df[\"Lcu\"]=df[\"length(m)\"]**3\n",
    "df[\"X1sq\"]=df[\"X1\"]**2\n",
    "df[\"X2cb\"]=df[\"X2\"]**3\n",
    "df[\"X1+X2\"]=df[\"X1\"]+df[\"X2\"]\n",
    "\n",
    "corr=df.corr()\n",
    "print(corr['breed_category'].sort_values(ascending=False))\n",
    "print(corr['pet_category'].sort_values(ascending=False))"
   ]
  },
  {
   "cell_type": "markdown",
   "metadata": {},
   "source": [
    "Some of them actually perform better than original ones, we can add them later"
   ]
  },
  {
   "cell_type": "markdown",
   "metadata": {},
   "source": [
    "## Prepare the Data for Machine Learning Algorithms"
   ]
  },
  {
   "cell_type": "code",
   "execution_count": 20,
   "metadata": {},
   "outputs": [],
   "source": [
    "pet_train_set = train_set.drop(['breed_category','pet_category'],axis=1).copy()\n",
    "pet_labels_b = train_set[\"breed_category\"].copy()\n",
    "pet_labels_p = train_set[\"pet_category\"].copy()"
   ]
  },
  {
   "cell_type": "markdown",
   "metadata": {},
   "source": [
    "## Data Cleaning"
   ]
  },
  {
   "cell_type": "code",
   "execution_count": 41,
   "metadata": {},
   "outputs": [
    {
     "data": {
      "text/plain": [
       "pet_id            0\n",
       "issue_date        0\n",
       "listing_date      0\n",
       "condition         0\n",
       "color_type        0\n",
       "length(m)         0\n",
       "height(cm)        0\n",
       "X1                0\n",
       "X2                0\n",
       "breed_category    0\n",
       "pet_category      0\n",
       "dtype: int64"
      ]
     },
     "execution_count": 41,
     "metadata": {},
     "output_type": "execute_result"
    }
   ],
   "source": [
    "pet_train.isnull().sum()"
   ]
  },
  {
   "cell_type": "markdown",
   "metadata": {},
   "source": [
    "## Handling Text and Categorical Attributes"
   ]
  },
  {
   "cell_type": "code",
   "execution_count": 39,
   "metadata": {},
   "outputs": [
    {
     "name": "stderr",
     "output_type": "stream",
     "text": [
      "/Users/vivekkathula/opt/anaconda3/lib/python3.7/site-packages/pandas/core/indexing.py:966: SettingWithCopyWarning: \n",
      "A value is trying to be set on a copy of a slice from a DataFrame.\n",
      "Try using .loc[row_indexer,col_indexer] = value instead\n",
      "\n",
      "See the caveats in the documentation: https://pandas.pydata.org/pandas-docs/stable/user_guide/indexing.html#returning-a-view-versus-a-copy\n",
      "  self.obj[item] = s\n"
     ]
    },
    {
     "data": {
      "text/plain": [
       "<15067x60 sparse matrix of type '<class 'numpy.float64'>'\n",
       "\twith 30134 stored elements in Compressed Sparse Row format>"
      ]
     },
     "execution_count": 39,
     "metadata": {},
     "output_type": "execute_result"
    }
   ],
   "source": [
    "from sklearn.preprocessing import OneHotEncoder\n",
    "cat_encoder = OneHotEncoder()\n",
    "pet_train_cat.loc[pet_train_cat['condition'].isnull(),'condition']=3.0\n",
    "pet_train_cat_1hot = cat_encoder.fit_transform(pet_train_cat) \n",
    "pet_train_cat_1hot"
   ]
  },
  {
   "cell_type": "code",
   "execution_count": 40,
   "metadata": {},
   "outputs": [
    {
     "data": {
      "text/plain": [
       "[array([0., 1., 2., 3.]),\n",
       " array(['Agouti', 'Apricot', 'Black', 'Black Brindle', 'Black Smoke',\n",
       "        'Black Tabby', 'Black Tiger', 'Blue', 'Blue Cream', 'Blue Merle',\n",
       "        'Blue Point', 'Blue Smoke', 'Blue Tabby', 'Blue Tick',\n",
       "        'Blue Tiger', 'Brown', 'Brown Brindle', 'Brown Merle',\n",
       "        'Brown Tabby', 'Brown Tiger', 'Buff', 'Calico', 'Calico Point',\n",
       "        'Chocolate', 'Chocolate Point', 'Cream', 'Cream Tabby', 'Fawn',\n",
       "        'Flame Point', 'Gold', 'Gray', 'Gray Tabby', 'Green',\n",
       "        'Lilac Point', 'Liver', 'Liver Tick', 'Lynx Point', 'Orange',\n",
       "        'Orange Tabby', 'Pink', 'Red', 'Red Merle', 'Red Tick', 'Sable',\n",
       "        'Seal Point', 'Silver', 'Silver Lynx Point', 'Silver Tabby', 'Tan',\n",
       "        'Torbie', 'Tortie', 'Tortie Point', 'Tricolor', 'White', 'Yellow',\n",
       "        'Yellow Brindle'], dtype=object)]"
      ]
     },
     "execution_count": 40,
     "metadata": {},
     "output_type": "execute_result"
    }
   ],
   "source": [
    "cat_encoder.categories_"
   ]
  },
  {
   "cell_type": "markdown",
   "metadata": {},
   "source": [
    "## Custom Transformers"
   ]
  },
  {
   "cell_type": "code",
   "execution_count": 23,
   "metadata": {},
   "outputs": [],
   "source": [
    "from sklearn.base import BaseEstimator, TransformerMixin\n",
    "\n",
    "l_ix , h_ix, X1_ix, X2_ix  = 0, 1, 2, 3\n",
    "\n",
    "class CombinedAttributesAdder(BaseEstimator, TransformerMixin):\n",
    "    def __init__(self, add_X1sq = True): # no *args or **kargs\n",
    "        self.add_X1sq = add_X1sq \n",
    "    def fit(self, X, y=None):\n",
    "        return self # nothing else to do \n",
    "    def transform(self, X):\n",
    "        X1sq = X[:, X1_ix] **2\n",
    "        X1plusX2= X[:, X1_ix]+X[:, X2_ix]\n",
    "        Lcu = X[:, l_ix]**3\n",
    "        Hcu = X[:, h_ix]**3\n",
    "        X2cb = X[:, X2_ix] **3\n",
    "        return np.c_[X, X1sq, X1plusX2,Lcu,Hcu,X2cb]\n",
    "\n",
    "attr_adder = CombinedAttributesAdder()\n"
   ]
  },
  {
   "cell_type": "markdown",
   "metadata": {},
   "source": [
    "## Transformation Pipelines, Feature Scaling"
   ]
  },
  {
   "cell_type": "code",
   "execution_count": 22,
   "metadata": {},
   "outputs": [],
   "source": [
    "pet_train_num = pet_train_set.drop([\"pet_id\",\"issue_date\",\"listing_date\",\"condition\",\"color_type\"], axis=1)\n",
    "pet_train_cat = pet_train_set[[\"condition\",\"color_type\"]]"
   ]
  },
  {
   "cell_type": "code",
   "execution_count": 24,
   "metadata": {},
   "outputs": [],
   "source": [
    "from sklearn.pipeline import Pipeline\n",
    "from sklearn.preprocessing import StandardScaler\n",
    "from sklearn.impute import SimpleImputer\n",
    "\n",
    "num_pipeline = Pipeline([\n",
    "    ('imputer', SimpleImputer(strategy=\"median\")),\n",
    "    ('attribs_adder', CombinedAttributesAdder()),\n",
    "    ('std_scaler', StandardScaler()),\n",
    "])\n",
    "\n",
    "pet_train_num_tr = num_pipeline.fit_transform(pet_train_num)"
   ]
  },
  {
   "cell_type": "markdown",
   "metadata": {},
   "source": [
    "## Full Pipeline\n",
    "replacing missing value in condition"
   ]
  },
  {
   "cell_type": "code",
   "execution_count": 32,
   "metadata": {},
   "outputs": [],
   "source": [
    "X_train = pet_train.drop(['breed_category','pet_category'],axis=1).copy()\n",
    "X_train.loc[X_train['condition'].isnull(),'condition']=3.0\n",
    "y_train_b= pet_train[\"breed_category\"].copy()\n",
    "y_train_p = pet_train[\"pet_category\"].copy()"
   ]
  },
  {
   "cell_type": "code",
   "execution_count": 33,
   "metadata": {},
   "outputs": [],
   "source": [
    "from sklearn.compose import ColumnTransformer \n",
    "from sklearn.preprocessing import OneHotEncoder\n",
    "\n",
    "num_attribs = ['length(m)', 'height(cm)', 'X1', 'X2']\n",
    "cat_attribs = [\"condition\",\"color_type\"]\n",
    "\n",
    "full_pipeline = ColumnTransformer([\n",
    "    (\"num\", num_pipeline, num_attribs),\n",
    "    (\"cat\", OneHotEncoder(), cat_attribs),\n",
    "])\n",
    "     \n",
    "X_train_tr = full_pipeline.fit_transform(X_train)"
   ]
  },
  {
   "cell_type": "code",
   "execution_count": 29,
   "metadata": {},
   "outputs": [
    {
     "data": {
      "text/plain": [
       "(15067, 69)"
      ]
     },
     "execution_count": 29,
     "metadata": {},
     "output_type": "execute_result"
    }
   ],
   "source": [
    "X_train_tr.shape"
   ]
  },
  {
   "cell_type": "code",
   "execution_count": 34,
   "metadata": {},
   "outputs": [],
   "source": [
    "X_valid = pet_valid.drop(['breed_category','pet_category'],axis=1).copy()\n",
    "X_valid.loc[X_valid['condition'].isnull(),'condition']=3.0\n",
    "y_valid_b= pet_valid[\"breed_category\"].copy()\n",
    "y_valid_p = pet_valid[\"pet_category\"].copy()"
   ]
  },
  {
   "cell_type": "code",
   "execution_count": 35,
   "metadata": {},
   "outputs": [],
   "source": [
    "X_valid_tr = full_pipeline.transform(X_valid)"
   ]
  },
  {
   "cell_type": "code",
   "execution_count": 36,
   "metadata": {},
   "outputs": [
    {
     "data": {
      "text/plain": [
       "(3767, 69)"
      ]
     },
     "execution_count": 36,
     "metadata": {},
     "output_type": "execute_result"
    }
   ],
   "source": [
    "X_valid_tr.shape"
   ]
  },
  {
   "cell_type": "markdown",
   "metadata": {},
   "source": [
    "## Select and Train a Model"
   ]
  },
  {
   "cell_type": "markdown",
   "metadata": {},
   "source": [
    "### Training and Evaluating on the Training Set Using Cross-Validation"
   ]
  },
  {
   "cell_type": "code",
   "execution_count": 42,
   "metadata": {},
   "outputs": [
    {
     "name": "stdout",
     "output_type": "stream",
     "text": [
      "Accuracy_p:   [0.86044197 0.85543608 0.84488252]\n",
      "Accuracy_b:   [0.90224965 0.89207487 0.89685384]\n"
     ]
    }
   ],
   "source": [
    "rf_clf_p = RandomForestClassifier()\n",
    "rf_clf_b = RandomForestClassifier()\n",
    "\n",
    "rf_clf_p.fit(X_train_tr, y_train_p)\n",
    "rf_clf_b.fit(X_train_tr, y_train_b)\n",
    "\n",
    "from sklearn.model_selection import cross_val_score\n",
    "scores = cross_val_score(rf_clf_p, X_train_tr, y_train_p,scoring=\"accuracy\", cv=3)\n",
    "print(\"Accuracy_p:  \",scores)\n",
    "scores = cross_val_score(rf_clf_b, X_train_tr, y_train_b,scoring=\"accuracy\", cv=3)\n",
    "print(\"Accuracy_b:  \",scores)\n"
   ]
  },
  {
   "cell_type": "code",
   "execution_count": 44,
   "metadata": {},
   "outputs": [
    {
     "data": {
      "text/plain": [
       "0.8728297182794238"
      ]
     },
     "execution_count": 44,
     "metadata": {},
     "output_type": "execute_result"
    }
   ],
   "source": [
    "y_pred_p = rf_clf_p.predict(X_valid_tr)\n",
    "y_true_p = y_valid_p\n",
    "\n",
    "y_pred_b = rf_clf_b.predict(X_valid_tr)\n",
    "y_true_b = y_valid_b\n",
    "\n",
    "from sklearn.metrics import f1_score\n",
    "s1=f1_score(y_true_p, y_pred_p, average='weighted')\n",
    "s2=f1_score(y_true_b, y_pred_b, average='weighted')\n",
    "score=(s1+s2)/2\n",
    "score"
   ]
  },
  {
   "cell_type": "code",
   "execution_count": 43,
   "metadata": {},
   "outputs": [
    {
     "name": "stdout",
     "output_type": "stream",
     "text": [
      "Accuracy_p:   [0.88214215 0.86758264 0.86638789]\n",
      "Accuracy_b:   [0.90782401 0.89924333 0.8998407 ]\n"
     ]
    }
   ],
   "source": [
    "gbm_clf_p = GradientBoostingClassifier()\n",
    "gbm_clf_b = GradientBoostingClassifier()\n",
    "\n",
    "gbm_clf_p.fit(X_train_tr, y_train_p)\n",
    "gbm_clf_b.fit(X_train_tr, y_train_b)\n",
    "\n",
    "from sklearn.model_selection import cross_val_score\n",
    "scores = cross_val_score(gbm_clf_p, X_train_tr, y_train_p,scoring=\"accuracy\", cv=3)\n",
    "print(\"Accuracy_p:  \",scores)\n",
    "scores = cross_val_score(gbm_clf_b, X_train_tr, y_train_b,scoring=\"accuracy\", cv=3)\n",
    "print(\"Accuracy_b:  \",scores)\n"
   ]
  },
  {
   "cell_type": "code",
   "execution_count": 45,
   "metadata": {},
   "outputs": [
    {
     "data": {
      "text/plain": [
       "0.8818765008797791"
      ]
     },
     "execution_count": 45,
     "metadata": {},
     "output_type": "execute_result"
    }
   ],
   "source": [
    "y_pred_p = gbm_clf_p.predict(X_valid_tr)\n",
    "y_true_p = y_valid_p\n",
    "\n",
    "y_pred_b = gbm_clf_b.predict(X_valid_tr)\n",
    "y_true_b = y_valid_b\n",
    "\n",
    "from sklearn.metrics import f1_score\n",
    "s1=f1_score(y_true_p, y_pred_p, average='weighted')\n",
    "s2=f1_score(y_true_b, y_pred_b, average='weighted')\n",
    "score=(s1+s2)/2\n",
    "score"
   ]
  },
  {
   "cell_type": "code",
   "execution_count": 57,
   "metadata": {},
   "outputs": [],
   "source": [
    "X_train_full = train.drop(['breed_category','pet_category'],axis=1).copy()\n",
    "X_train_full.loc[X_train_full['condition'].isnull(),'condition']=3.0\n",
    "y_train_full_b= train[\"breed_category\"].copy()\n",
    "y_train_full_p = train[\"pet_category\"].copy()"
   ]
  },
  {
   "cell_type": "code",
   "execution_count": 47,
   "metadata": {},
   "outputs": [],
   "source": [
    "X_train_full_tr = full_pipeline.fit_transform(X_train_full)"
   ]
  },
  {
   "cell_type": "code",
   "execution_count": 48,
   "metadata": {},
   "outputs": [
    {
     "data": {
      "text/plain": [
       "(18834, 69)"
      ]
     },
     "execution_count": 48,
     "metadata": {},
     "output_type": "execute_result"
    }
   ],
   "source": [
    "X_train_full_tr.shape"
   ]
  },
  {
   "cell_type": "markdown",
   "metadata": {},
   "source": [
    "### Fine Tune using randomised search"
   ]
  },
  {
   "cell_type": "code",
   "execution_count": 50,
   "metadata": {},
   "outputs": [],
   "source": [
    "#The report function below gives the rank-wise details of each model.\n",
    "\n",
    "def report(results, n_top=3):\n",
    "    for i in range(1, n_top + 1):\n",
    "        candidate = np.flatnonzero(results['rank_test_score'] == i)[0]\n",
    "        print(\"Model with rank: {0}\".format(i))\n",
    "        print(\"Mean validation score: {0:.5f} (std: {1:.5f})\".format(\n",
    "            results['mean_test_score'][candidate],\n",
    "            results['std_test_score'][candidate]))\n",
    "        print(\"Parameters: {0}\".format(results['params'][candidate]))\n",
    "        print(\"\")"
   ]
  },
  {
   "cell_type": "code",
   "execution_count": 54,
   "metadata": {},
   "outputs": [
    {
     "data": {
      "text/plain": [
       "RandomizedSearchCV(cv=10, estimator=GradientBoostingClassifier(), n_jobs=-1,\n",
       "                   param_distributions={'learning_rate': [0.01, 0.05, 0.1, 0.4,\n",
       "                                                          0.8, 1],\n",
       "                                        'max_depth': [1, 2, 3, 4, 5, 6],\n",
       "                                        'max_features': [0.1, 0.3, 0.5, 0.8, 1],\n",
       "                                        'n_estimators': [50, 100, 200, 500],\n",
       "                                        'subsample': [0.5, 0.8, 1]},\n",
       "                   scoring='accuracy', verbose=False)"
      ]
     },
     "execution_count": 54,
     "metadata": {},
     "output_type": "execute_result"
    }
   ],
   "source": [
    "model=GradientBoostingClassifier()\n",
    "\n",
    "gbm_params={'n_estimators':[50,100,200,500],           \n",
    "            'learning_rate': [0.01,.05,0.1,0.4,0.8,1],\n",
    "            'max_depth':[1,2,3,4,5,6],\n",
    "            'subsample':[0.5,0.8,1],\n",
    "            'max_features':[0.1,0.3,0.5,0.8,1]\n",
    "           }\n",
    "\n",
    "random_search_b=RandomizedSearchCV(model,scoring='accuracy',\n",
    "                                 param_distributions=gbm_params,\n",
    "                                 cv=10,n_iter=10,\n",
    "                                 n_jobs=-1,verbose=False)\n",
    "\n",
    "random_search_b.fit(X_train_full_tr,y_train_full_b)"
   ]
  },
  {
   "cell_type": "code",
   "execution_count": 55,
   "metadata": {},
   "outputs": [
    {
     "name": "stdout",
     "output_type": "stream",
     "text": [
      "Model with rank: 1\n",
      "Mean validation score: 0.90204 (std: 0.00763)\n",
      "Parameters: {'subsample': 0.5, 'n_estimators': 100, 'max_features': 0.5, 'max_depth': 3, 'learning_rate': 0.01}\n",
      "\n",
      "Model with rank: 2\n",
      "Mean validation score: 0.90087 (std: 0.00749)\n",
      "Parameters: {'subsample': 0.5, 'n_estimators': 100, 'max_features': 0.3, 'max_depth': 2, 'learning_rate': 0.05}\n",
      "\n",
      "Model with rank: 3\n",
      "Mean validation score: 0.89992 (std: 0.00509)\n",
      "Parameters: {'subsample': 0.8, 'n_estimators': 500, 'max_features': 0.5, 'max_depth': 3, 'learning_rate': 0.4}\n",
      "\n"
     ]
    }
   ],
   "source": [
    "report(random_search_b.cv_results_,3)"
   ]
  },
  {
   "cell_type": "code",
   "execution_count": 60,
   "metadata": {},
   "outputs": [
    {
     "data": {
      "text/plain": [
       "RandomizedSearchCV(cv=10, estimator=GradientBoostingClassifier(), n_jobs=-1,\n",
       "                   param_distributions={'learning_rate': [0.005, 0.01, 0.015,\n",
       "                                                          0.02],\n",
       "                                        'max_depth': [3], 'max_features': [0.5],\n",
       "                                        'n_estimators': [75, 100, 125],\n",
       "                                        'subsample': [0.5, 0.8, 1]},\n",
       "                   scoring='accuracy', verbose=False)"
      ]
     },
     "execution_count": 60,
     "metadata": {},
     "output_type": "execute_result"
    }
   ],
   "source": [
    "model=GradientBoostingClassifier()\n",
    "\n",
    "gbm_params={'n_estimators':[75,100,125],           \n",
    "            'learning_rate': [0.005,0.01,0.015,0.02],\n",
    "            'max_depth':[3],\n",
    "            'subsample':[0.5,0.8,1],\n",
    "            'max_features':[0.5]\n",
    "           }\n",
    "\n",
    "random_search_b=RandomizedSearchCV(model,scoring='accuracy',\n",
    "                                 param_distributions=gbm_params,\n",
    "                                 cv=10,n_iter=10,\n",
    "                                 n_jobs=-1,verbose=False)\n",
    "\n",
    "random_search_b.fit(X_train_full_tr,y_train_full_b)"
   ]
  },
  {
   "cell_type": "code",
   "execution_count": 62,
   "metadata": {},
   "outputs": [
    {
     "name": "stdout",
     "output_type": "stream",
     "text": [
      "Model with rank: 1\n",
      "Mean validation score: 0.90220 (std: 0.00770)\n",
      "Parameters: {'subsample': 0.5, 'n_estimators': 100, 'max_features': 0.5, 'max_depth': 3, 'learning_rate': 0.015}\n",
      "\n",
      "Model with rank: 2\n",
      "Mean validation score: 0.90204 (std: 0.00788)\n",
      "Parameters: {'subsample': 1, 'n_estimators': 75, 'max_features': 0.5, 'max_depth': 3, 'learning_rate': 0.015}\n",
      "\n",
      "Model with rank: 3\n",
      "Mean validation score: 0.90204 (std: 0.00763)\n",
      "Parameters: {'subsample': 0.8, 'n_estimators': 75, 'max_features': 0.5, 'max_depth': 3, 'learning_rate': 0.015}\n",
      "\n"
     ]
    }
   ],
   "source": [
    "report(random_search_b.cv_results_,3)"
   ]
  },
  {
   "cell_type": "code",
   "execution_count": null,
   "metadata": {},
   "outputs": [],
   "source": []
  },
  {
   "cell_type": "code",
   "execution_count": 58,
   "metadata": {},
   "outputs": [
    {
     "data": {
      "text/plain": [
       "RandomizedSearchCV(cv=10, estimator=GradientBoostingClassifier(), n_jobs=-1,\n",
       "                   param_distributions={'learning_rate': [0.01, 0.05, 0.1, 0.4,\n",
       "                                                          0.8, 1],\n",
       "                                        'max_depth': [1, 2, 3, 4, 5, 6],\n",
       "                                        'max_features': [0.1, 0.3, 0.5, 0.8, 1],\n",
       "                                        'n_estimators': [50, 100, 200, 500],\n",
       "                                        'subsample': [0.5, 0.8, 1]},\n",
       "                   scoring='accuracy', verbose=False)"
      ]
     },
     "execution_count": 58,
     "metadata": {},
     "output_type": "execute_result"
    }
   ],
   "source": [
    "model=GradientBoostingClassifier()\n",
    "\n",
    "gbm_params={'n_estimators':[50,100,200,500],           \n",
    "            'learning_rate': [0.01,.05,0.1,0.4,0.8,1],\n",
    "            'max_depth':[1,2,3,4,5,6],\n",
    "            'subsample':[0.5,0.8,1],\n",
    "            'max_features':[0.1,0.3,0.5,0.8,1]\n",
    "           }\n",
    "\n",
    "random_search_p=RandomizedSearchCV(model,scoring='accuracy',\n",
    "                                 param_distributions=gbm_params,\n",
    "                                 cv=10,n_iter=10,\n",
    "                                 n_jobs=-1,verbose=False)\n",
    "\n",
    "random_search_p.fit(X_train_full_tr,y_train_full_p)"
   ]
  },
  {
   "cell_type": "code",
   "execution_count": 59,
   "metadata": {},
   "outputs": [
    {
     "name": "stdout",
     "output_type": "stream",
     "text": [
      "Model with rank: 1\n",
      "Mean validation score: 0.87671 (std: 0.01007)\n",
      "Parameters: {'subsample': 1, 'n_estimators': 200, 'max_features': 0.8, 'max_depth': 3, 'learning_rate': 0.1}\n",
      "\n",
      "Model with rank: 2\n",
      "Mean validation score: 0.87650 (std: 0.00936)\n",
      "Parameters: {'subsample': 0.5, 'n_estimators': 500, 'max_features': 1, 'max_depth': 3, 'learning_rate': 0.1}\n",
      "\n",
      "Model with rank: 3\n",
      "Mean validation score: 0.86880 (std: 0.00883)\n",
      "Parameters: {'subsample': 1, 'n_estimators': 50, 'max_features': 1, 'max_depth': 3, 'learning_rate': 0.4}\n",
      "\n"
     ]
    }
   ],
   "source": [
    "report(random_search_p.cv_results_,3)"
   ]
  },
  {
   "cell_type": "code",
   "execution_count": 63,
   "metadata": {},
   "outputs": [
    {
     "data": {
      "text/plain": [
       "RandomizedSearchCV(cv=10, estimator=GradientBoostingClassifier(), n_jobs=-1,\n",
       "                   param_distributions={'learning_rate': [0.05, 0.1, 0.15],\n",
       "                                        'max_depth': [3],\n",
       "                                        'max_features': [0.7, 0.8, 0.9],\n",
       "                                        'n_estimators': [200, 300, 400],\n",
       "                                        'subsample': [0.7, 0.8, 0.9]},\n",
       "                   scoring='accuracy', verbose=False)"
      ]
     },
     "execution_count": 63,
     "metadata": {},
     "output_type": "execute_result"
    }
   ],
   "source": [
    "model=GradientBoostingClassifier()\n",
    "\n",
    "gbm_params={'n_estimators':[200,300,400],           \n",
    "            'learning_rate': [0.05,0.1,0.15],\n",
    "            'max_depth':[3],\n",
    "            'subsample':[0.7,0.8,0.9],\n",
    "            'max_features':[0.7,0.8,0.9]\n",
    "           }\n",
    "\n",
    "random_search_p=RandomizedSearchCV(model,scoring='accuracy',\n",
    "                                 param_distributions=gbm_params,\n",
    "                                 cv=10,n_iter=10,\n",
    "                                 n_jobs=-1,verbose=False)\n",
    "\n",
    "random_search_p.fit(X_train_full_tr,y_train_full_p)"
   ]
  },
  {
   "cell_type": "code",
   "execution_count": 64,
   "metadata": {},
   "outputs": [
    {
     "name": "stdout",
     "output_type": "stream",
     "text": [
      "Model with rank: 1\n",
      "Mean validation score: 0.87708 (std: 0.00879)\n",
      "Parameters: {'subsample': 0.8, 'n_estimators': 300, 'max_features': 0.7, 'max_depth': 3, 'learning_rate': 0.1}\n",
      "\n",
      "Model with rank: 2\n",
      "Mean validation score: 0.87676 (std: 0.00913)\n",
      "Parameters: {'subsample': 0.9, 'n_estimators': 200, 'max_features': 0.9, 'max_depth': 3, 'learning_rate': 0.15}\n",
      "\n",
      "Model with rank: 3\n",
      "Mean validation score: 0.87671 (std: 0.00989)\n",
      "Parameters: {'subsample': 0.8, 'n_estimators': 200, 'max_features': 0.9, 'max_depth': 3, 'learning_rate': 0.1}\n",
      "\n"
     ]
    }
   ],
   "source": [
    "report(random_search_p.cv_results_,3)"
   ]
  },
  {
   "cell_type": "code",
   "execution_count": 65,
   "metadata": {},
   "outputs": [],
   "source": [
    "gbm_clf_b_final=random_search_b.best_estimator_"
   ]
  },
  {
   "cell_type": "code",
   "execution_count": 66,
   "metadata": {},
   "outputs": [],
   "source": [
    "gbm_clf_p_final=random_search_p.best_estimator_"
   ]
  },
  {
   "cell_type": "markdown",
   "metadata": {},
   "source": [
    "## Prediction on test"
   ]
  },
  {
   "cell_type": "code",
   "execution_count": 67,
   "metadata": {},
   "outputs": [
    {
     "data": {
      "text/plain": [
       "((15067, 69), (8072, 69))"
      ]
     },
     "execution_count": 67,
     "metadata": {},
     "output_type": "execute_result"
    }
   ],
   "source": [
    "X_test=test.copy()\n",
    "X_test.loc[X_test['condition'].isnull(),'condition']=3.0\n",
    "X_test_tr = full_pipeline.transform(X_test)\n",
    "X_train_tr.shape,X_test_tr.shape"
   ]
  },
  {
   "cell_type": "code",
   "execution_count": 68,
   "metadata": {},
   "outputs": [],
   "source": [
    "y_pred_p = rf_clf_p.predict(X_test_tr)\n",
    "\n",
    "y_pred_b = rf_clf_b.predict(X_test_tr)"
   ]
  },
  {
   "cell_type": "code",
   "execution_count": 71,
   "metadata": {},
   "outputs": [],
   "source": [
    "HE_Pet_submission=test[[\"pet_id\"]].copy()\n",
    "HE_Pet_submission[\"breed_category\"]=y_pred_b\n",
    "HE_Pet_submission[\"pet_category\"]=y_pred_p"
   ]
  },
  {
   "cell_type": "code",
   "execution_count": 72,
   "metadata": {},
   "outputs": [
    {
     "data": {
      "text/html": [
       "<div>\n",
       "<style scoped>\n",
       "    .dataframe tbody tr th:only-of-type {\n",
       "        vertical-align: middle;\n",
       "    }\n",
       "\n",
       "    .dataframe tbody tr th {\n",
       "        vertical-align: top;\n",
       "    }\n",
       "\n",
       "    .dataframe thead th {\n",
       "        text-align: right;\n",
       "    }\n",
       "</style>\n",
       "<table border=\"1\" class=\"dataframe\">\n",
       "  <thead>\n",
       "    <tr style=\"text-align: right;\">\n",
       "      <th></th>\n",
       "      <th>pet_id</th>\n",
       "      <th>breed_category</th>\n",
       "      <th>pet_category</th>\n",
       "    </tr>\n",
       "  </thead>\n",
       "  <tbody>\n",
       "    <tr>\n",
       "      <th>0</th>\n",
       "      <td>ANSL_75005</td>\n",
       "      <td>1.0</td>\n",
       "      <td>2</td>\n",
       "    </tr>\n",
       "    <tr>\n",
       "      <th>1</th>\n",
       "      <td>ANSL_76663</td>\n",
       "      <td>0.0</td>\n",
       "      <td>1</td>\n",
       "    </tr>\n",
       "  </tbody>\n",
       "</table>\n",
       "</div>"
      ],
      "text/plain": [
       "       pet_id  breed_category  pet_category\n",
       "0  ANSL_75005             1.0             2\n",
       "1  ANSL_76663             0.0             1"
      ]
     },
     "execution_count": 72,
     "metadata": {},
     "output_type": "execute_result"
    }
   ],
   "source": [
    "HE_Pet_submission.head(2)"
   ]
  },
  {
   "cell_type": "markdown",
   "metadata": {},
   "source": [
    "### Save it for Submission"
   ]
  },
  {
   "cell_type": "code",
   "execution_count": 73,
   "metadata": {},
   "outputs": [],
   "source": [
    "pd.DataFrame(HE_Pet_submission).to_csv(\"HE_Pet_submission.csv\",index=False)"
   ]
  },
  {
   "cell_type": "code",
   "execution_count": null,
   "metadata": {},
   "outputs": [],
   "source": []
  }
 ],
 "metadata": {
  "kernelspec": {
   "display_name": "Python 3",
   "language": "python",
   "name": "python3"
  },
  "language_info": {
   "codemirror_mode": {
    "name": "ipython",
    "version": 3
   },
   "file_extension": ".py",
   "mimetype": "text/x-python",
   "name": "python",
   "nbconvert_exporter": "python",
   "pygments_lexer": "ipython3",
   "version": "3.7.4"
  }
 },
 "nbformat": 4,
 "nbformat_minor": 2
}
